{
 "cells": [
  {
   "cell_type": "markdown",
   "id": "09f55ac3",
   "metadata": {},
   "source": [
    "# Example\n",
    "\n",
    "This section shows a small example of the both the [Python API](./api.md) and [command-line interface](./cli.md).\n",
    "The example formats the connectivity information in\n",
    "its simplest form as a comma-separated value (CSV table with model units in each row and arcs for each column, where non-zero cell values indicate an arc entering (1) or leaving (-1) the unit. \n",
    "\n",
    "## Python API"
   ]
  },
  {
   "cell_type": "code",
   "execution_count": 1,
   "id": "3b04ddb2",
   "metadata": {},
   "outputs": [
    {
     "name": "stdout",
     "output_type": "stream",
     "text": [
      "Arcs,M01,H02,F03\r\n",
      "s01,-1,1,0\r\n",
      "s02,0,-1,1\r\n",
      "\n"
     ]
    }
   ],
   "source": [
    "# Import the main class, \"Connectivity\", and \n",
    "# a formatter class (CSV)\n",
    "from idaes_connectivity.base import Connectivity, CSV\n",
    "\n",
    "# Build the simple example flowsheet\n",
    "from idaes_connectivity.tests.example_flowsheet import build\n",
    "model = build()\n",
    "\n",
    "# Extract and format connectivity\n",
    "conn = Connectivity(input_model=model)\n",
    "csv = CSV(conn)\n",
    "\n",
    "# Print out the connectivity CSV\n",
    "print(csv.write(None))"
   ]
  },
  {
   "cell_type": "markdown",
   "id": "75607ff8",
   "metadata": {},
   "source": [
    "## Command-line interface\n",
    "\n",
    "```{code-block} shell\n",
    "\n",
    "# generate the CSV output, for the simple\n",
    "# included flowsheet, as a file\n",
    "$ idaes-conn idaes_connectivity.tests.example_flowsheet --to csv --output-file ex.csv\n",
    "# show the output\n",
    "$ cat ex.csv\n",
    "```\n",
    "```none\n",
    "Arcs,M01,H02,F03\n",
    "s01,-1,1,0\n",
    "s02,0,-1,1\n",
    "```"
   ]
  }
 ],
 "metadata": {
  "jupytext": {
   "formats": "md:myst",
   "text_representation": {
    "extension": ".md",
    "format_name": "myst",
    "format_version": 0.13,
    "jupytext_version": "1.11.5"
   }
  },
  "kernelspec": {
   "display_name": "Python 3",
   "language": "python",
   "name": "python3"
  },
  "language_info": {
   "codemirror_mode": {
    "name": "ipython",
    "version": 3
   },
   "file_extension": ".py",
   "mimetype": "text/x-python",
   "name": "python",
   "nbconvert_exporter": "python",
   "pygments_lexer": "ipython3",
   "version": "3.12.8"
  },
  "source_map": [
   13,
   23,
   38
  ]
 },
 "nbformat": 4,
 "nbformat_minor": 5
}